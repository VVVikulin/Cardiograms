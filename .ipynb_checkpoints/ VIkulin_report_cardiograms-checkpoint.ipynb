{
 "cells": [
  {
   "cell_type": "markdown",
   "metadata": {},
   "source": [
    "   # Применение метода Воронцова-Успенского"
   ]
  },
  {
   "cell_type": "markdown",
   "metadata": {},
   "source": [
    "Все предварительная (и на самом деле самая большая часть работы) была выполнена в матлабе. В этом ноутбуке только применение этих данных. Исходные сигнала сначала подвергались фильтрации. Использовались совершенно разные фильтры, различные варианты сглаживания скользящими окнами(в этой задаче работали они далеко не все). Лучшим методом фильрации и выбранным на даннной момент - фильтры высоких и низких частот с помощью преобразования Фурье. Исходный сигал подвергается FFT, затем зануляются определенные частоты, (какие именно занулять я честно нашел в интернете) а затем применялось обратного преобразование. В результате вредных частот в сигнале уже не было.\n",
    "Далее на отфильрованных сигналах происходило выделение J максимумов. Был использован простой, но очень хорошо показавший себя подход: все точки сигнала проверялись на то, что они являются локальным максимумом, но не просто локальным масимумом, а слева и справа точки принимают значение < 0. Это простой и довольно неэффективный метод с точки зрения работы с памятью, но визуально он показал качество лучше, чем любая готовая матлабовская библиотека (а опробовано  и проверено было совсем не мало библиотек), например https://www.mathworks.com/examples/wavelet/mw/wavelet-ex77408607-r-wave-detection-in-the-ecg. В результате работы данного алгоритма для каждого сигнала мы получаем список интервалов (расстояний между соседними максимуми) и амплитуд (высота каждого максимума).\n",
    "Далее это последовательность записывается в текстовый файл, с которым потом уже можно работать с помощью любого другого языка, у которого есть хорошие ML библиотеки (R, python, etc). Для больных и здоровых существует два отдельных файла (ibs_true_data.txt- больные, ibs_false_data.txt - здоровые)\n",
    "Формат текстового файла такой:\n",
    "\n",
    "\"Patient\" +Номер пацента + \"Cardio\" + Номер сигнала\n",
    "\n",
    "список амплитуд\n",
    "\n",
    "пустая строка\n",
    "\n",
    "список интервалов\n",
    "\n",
    "\"Patient\" +Номер пацента + \"Cardio\" + Номер сигнала\n",
    "\n",
    "Такой формат позволяет быстро обработать этот файлик, выделяя кардиограммы, которые относятся только к одному пациенту\n",
    "\n",
    "\n"
   ]
  },
  {
   "cell_type": "markdown",
   "metadata": {},
   "source": [
    "Вот так выглядит сигнал после указанной выше фильтрации (маленький кусок реального сигнала, реальных пиков гораздо больше):\n",
    "<img src=\"signals_after_filters.jpg\">"
   ]
  },
  {
   "cell_type": "markdown",
   "metadata": {},
   "source": [
    "А вот так на этом же сигнале (но это уже весь сигнал после фильтрации, а не кусок, как прошлый) алгоритм находит максимумы.Визуально видно, что довольно хорошая точность\n",
    "<img src=\"peak_detection2.jpg\">"
   ]
  },
  {
   "cell_type": "markdown",
   "metadata": {},
   "source": [
    "Здесь кратко раcсмотрим метод Воронцова-Успенского.\n",
    "Наш сигнал с помощью выделения максимумов разбит на отрезки. Для этого разбиения вычисляется три последовательности: знак разности соседних амплитуд, знак разности соседних интервалов и знак разности соседних углов. Угл в данном случае это арктангенс(амплитуда/интервал).  Всего возмждно не 8 вариантов, а только 6, так как угол явно связан с амплитудой и интервалом. Таким образом каждый сигнал можно представить как последовать букв из алфавита по модулю 6. Далее с ним можно работать уже как как с текстом, используя обычные приемы выделения признаков и обычные алгоритмы классификации (например количество у кардиограммы буквы, которая характерна для больных и т.д.)"
   ]
  },
  {
   "cell_type": "markdown",
   "metadata": {},
   "source": [
    "Если посмотреть, сколько раз встречается в среднем каждая триграмма у больных и здоровых, то график будет выглядеть примерно так:\n",
    "<img src=\"trigrams.png\">\n",
    "Очень мало триграмм, которые встречаются только у больных или только у здоровых, но они есть"
   ]
  },
  {
   "cell_type": "code",
   "execution_count": 23,
   "metadata": {
    "collapsed": false
   },
   "outputs": [
    {
     "name": "stdout",
     "output_type": "stream",
     "text": [
      "0.666666666667\n",
      "0.0\n"
     ]
    }
   ],
   "source": [
    "a = np.array([1,2,3])\n",
    "import scipy.stats\n",
    "f1 = lambda x : np.percentile(a=x, q=50)\n",
    "print np.var(a)\n",
    "print scipy.stats.moment(a,1)"
   ]
  },
  {
   "cell_type": "markdown",
   "metadata": {},
   "source": [
    "Теперь перейдем к коду непосредственного алгоритма"
   ]
  },
  {
   "cell_type": "code",
   "execution_count": 75,
   "metadata": {
    "collapsed": false
   },
   "outputs": [],
   "source": [
    "# -*- coding: utf-8 -*-\n",
    "import numpy as np\n",
    "from collections import defaultdict\n",
    "from itertools import product\n",
    "import matplotlib.pyplot as plt\n",
    "import pandas as pd\n",
    "%matplotlib inline\n",
    "import seaborn as sns\n",
    "class CardioClass():\n",
    "    def __init__(self, path_to_true_ibs, path_to_false_ibs):\n",
    "        self.ibs_true_patients = {}   # заводим словари, которые по номерку  пациента дадут данные\n",
    "        self.ibs_false_patients = {}\n",
    "        k = 0            # номер текущего пациента\n",
    "        new_ids = {}     # словарь с айдишниками пациентов, мы дадим им нормальные айдишники, которые нумеруются с 0\n",
    "        with open(path_to_true_ibs) as true_abs_file:   # сначала работаем с больными пациентами\n",
    "            while True:      #cчитываем данные, пока можем\n",
    "                patient_cardio_id = true_abs_file.readline().strip().split()#номер пациента и номер сигнала\n",
    "                if not patient_cardio_id:    # если это пустая строчка, то закончиили считывать            \n",
    "                    break\n",
    "                old_patient_id = patient_cardio_id[1]  # в такой записи файла номер пациента стоит на 1 позиции\n",
    "                cardio_id = patient_cardio_id[3]       # номер сигнала на 3\n",
    "                amplitudes = [float(x) for x in true_abs_file.readline().strip().split()] # взяли спислк амплитуд\n",
    "                true_abs_file.readline()\n",
    "                intervals = [float(x) for x in true_abs_file.readline().strip().split()] # взяли список интервалов\n",
    "                if old_patient_id not in new_ids:  # если мы не видели ранее, добавили его\n",
    "                    new_ids[old_patient_id] = k    # присвоили ему новый номер\n",
    "                    k += 1\n",
    "                old_patient_id = new_ids[old_patient_id]  #вот это ноый номер пациента\n",
    "                if old_patient_id not in self.ibs_true_patients:  # если он новый, создадим ему новый список с данными\n",
    "                    self.ibs_true_patients[old_patient_id] = [(self.make_trigrams_data(amplitudes, intervals), (amplitudes, intervals))]\n",
    "                else:  # иначе добавим к уже известным ранее ему данным\n",
    "                    self.ibs_true_patients[old_patient_id].append([self.make_trigrams_data(amplitudes, intervals), (amplitudes, intervals)])\n",
    "        \n",
    "        \n",
    "        with open(path_to_false_ibs) as false_abs_file:    #абсолютно тоже самое, но уже для здоровых пациентов\n",
    "            while True:\n",
    "                patient_cardio_id = false_abs_file.readline().strip().split()\n",
    "                if not patient_cardio_id:\n",
    "                    break\n",
    "                amplitudes = [float(x) for x in false_abs_file.readline().strip().split()]\n",
    "                false_abs_file.readline()\n",
    "                intervals = [float(x) for x in false_abs_file.readline().strip().split()]\n",
    "                old_patient_id = patient_cardio_id[1]\n",
    "                cardio_id = patient_cardio_id[3]\n",
    "                if old_patient_id not in new_ids:\n",
    "                    new_ids[old_patient_id] = k\n",
    "                    k += 1\n",
    "                old_patient_id = new_ids[old_patient_id]\n",
    "                if old_patient_id not in self.ibs_false_patients:\n",
    "                    self.ibs_false_patients[old_patient_id] = [(self.make_trigrams_data(amplitudes, intervals), (amplitudes, intervals))]\n",
    "                else:\n",
    "                    self.ibs_false_patients[old_patient_id].append([self.make_trigrams_data(amplitudes, intervals), (amplitudes, intervals)])\n",
    "\n",
    "    def make_trigrams_data(self, amps, ints):   # функция, которая по списку ампитуд и интервало сделает буквы\n",
    "        amps = np.array(amps).astype(float)     \n",
    "        ints = np.array(ints).astype(float)     \n",
    "        alphas = np.arctan(amps / ints)         # посчитали углы\n",
    "        amps = np.diff(amps)                    #посчитали все разности\n",
    "        ints = np.diff(ints)\n",
    "        alphas = np.diff(alphas)\n",
    "        s = list()                              # наш список букв\n",
    "        for ind, r, t, a in zip(range(len(amps)), amps, ints, alphas):   #поехали делать буквы\n",
    "            c = 'x'\n",
    "            if r > 0 and t > 0 and a > 0:\n",
    "                c = 'a'\n",
    "            if r <= 0 and t <= 0 and a > 0:\n",
    "                c = 'b'\n",
    "            if r > 0 and t <= 0 and a > 0:\n",
    "                c = 'c'\n",
    "            if r <= 0 and t > 0 and a <= 0:\n",
    "                c = 'd'\n",
    "            if r > 0 and t > 0 and a <= 0:\n",
    "                c = 'e'\n",
    "            if r <= 0 and t <= 0 and a <= 0:\n",
    "                c = 'f'\n",
    "            if c == 'x':  # вот такого быть не должно, если я правильно поставил все знако\n",
    "                print 'Very strange!!!', ind, r, t, a   # такого и не бывает, кстати говоря\n",
    "            s.append(c)   # по стандарту считаем 1-4 граммы\n",
    "        return [self.create_gr(s,1), self.create_gr(s,2), self.create_gr(s,3), self.create_gr(s,4)]\n",
    "    \n",
    "    def create_gr(self, text, num=3):   # функция, которая считает N-граммы\n",
    "        current = defaultdict(int)\n",
    "        for j in range(0, len(text) - num):\n",
    "            current[tuple(text[j:j+num])] += 1    #посчитали количество N-г в тексте\n",
    "        vect = list()\n",
    "        all_leters = tuple('abcdef' for x in range(num))  \n",
    "        for new_gram in product(*all_leters):  # взяли все возможные комбинации букв\n",
    "            vect.append(current[new_gram])     # добавили их количество в признаки\n",
    "        return vect                \n",
    "    \n",
    "    def plot_stat(self):   # простая функция, которая посчитает склько раз каждая триграмма\n",
    "                           # встретится у больных,  а сколько у здоровых, для работы непосредственно она не нужна\n",
    "        true_ibs_trigrams_stat = np.zeros(216)\n",
    "        false_ibs_trigrams_stat = np.zeros(216)\n",
    "        len_true = 0\n",
    "        for i in self.ibs_true_patients:\n",
    "            for j in self.ibs_true_patients[i]:\n",
    "                true_ibs_trigrams_stat += np.array(j[0])\n",
    "                len_true += 1\n",
    "        true_ibs_trigrams_stat = true_ibs_trigrams_stat / float(len_true)\n",
    "        len_false = 0\n",
    "        for i in self.ibs_false_patients:\n",
    "            for j in self.ibs_false_patients[i]:\n",
    "                false_ibs_trigrams_stat += np.array(j[0])\n",
    "                len_false += 1\n",
    "        false_ibs_trigrams_stat = false_ibs_trigrams_stat / float(len_false)\n",
    "        idx= abs(false_ibs_trigrams_stat - true_ibs_trigrams_stat) > 0\n",
    "        fig = plt.figure(num=None, figsize=(9, 9), dpi=80, facecolor='w', edgecolor='k')\n",
    "        plt.scatter(false_ibs_trigrams_stat[idx], true_ibs_trigrams_stat[idx], marker='o', color=\"r\", alpha = 0.5, s=50)\n",
    "        plt.plot(range(0, 9))\n",
    "        plt.xlabel('mean trigram freq for false ibs')\n",
    "        plt.ylabel('mean trigram freq for true ibs')\n",
    "        plt.show()\n",
    "        return np.array(range(0,216))[idx]\n",
    "    \n",
    "    def create_stats_features(self, amps, ints):  # функция, которая из  амплитуд, интревалов\n",
    "                                                  # извлекает статиcтические признаки\n",
    "        amps = np.array(amps).astype(float)     \n",
    "        ints = np.array(ints).astype(float)     \n",
    "        alphas = np.arctan(amps / ints)         \n",
    "        amps_diff = np.diff(amps)                    \n",
    "        ints_diff = np.diff(ints)\n",
    "        alphas_diff = np.diff(alphas)\n",
    "            \n",
    "        all_data = [amps, ints, alphas, amps_diff, ints_diff, alphas_diff,\\   # вот к таким данным будем применять\n",
    "                   np.log(amps + 1), np.log(ints + 1), np.log(alphas+1),\\     # функции, которые указаны ниэе\n",
    "                   amps/(ints + 1.0), ints / (amps + 1.0), amps + ints,\\\n",
    "                   abs(amps - ints), np.log(ints + 1)/ np.log(amps + 1.0),\\\n",
    "                   np.log ( abs(amps - ints) + 1.0), amps * ints,\\\n",
    "                   np.log(amps * ints + 1.0)\n",
    "                   ]\n",
    "        percentiles = [lambda x : np.percentile(a=x, q=10),  lambda x : np.percentile(a=x, q=20),\\  # квантили\n",
    "                       lambda x : np.percentile(a=x, q=30),  lambda x : np.percentile(a=x, q=40),\\\n",
    "                       lambda x : np.percentile(a=x, q=50),  lambda x : np.percentile(a=x, q=60),\\\n",
    "                       lambda x : np.percentile(a=x, q=70),  lambda x : np.percentile(a=x, q=80),\\\n",
    "                       lambda x : np.percentile(a=x, q=90)]\n",
    "        # вот это моменты\n",
    "        momentus = [lambda x : scipy.stats.moment(a=x, moment=1), lambda x : scipy.stats.moment(a=x, moment=3),\\\n",
    "                    lambda x : scipy.stats.moment(a=x, moment=4), lambda x : scipy.stats.moment(a=x, moment=5),\\\n",
    "                    lambda x : scipy.stats.moment(a=x, moment=6), lambda x : scipy.stats.moment(a=x, moment=7)]\n",
    "        all_stats_func = [np.mean, np.max, np.min, np.var, np.std] + percentiles + momentus  # вот такие функции будем\n",
    "        self.size_stat_features = len(all_stats_func) * len(all_data)\n",
    "        if len(amps) < 10: # мало данных для нормальной статистики\n",
    "            return [0] * self.size_stat_features\n",
    "        result = []\n",
    "        for new_func in all_stats_func:\n",
    "            for new_data in all_data:\n",
    "                result.append(new_func(new_data))   # непосредственно применяем\n",
    "        return result\n",
    "        \n",
    "          \n",
    "    \n",
    "    def create_data(self):  # здесь мы всю информацию из словарей собираем в один датафрейм\n",
    "                            # чтобы загрузить его в склерн\n",
    "        all_dict_data = {}\n",
    "        all_dict_data[\"patient_id\"] = []    # столбец с номерами пациентов\n",
    "        all_dict_data[\"class\"] = []         # класс пациента\n",
    "        #all_dict_data[\"amp\"] = []\n",
    "        #all_dict_data[\"int\"] = []\n",
    "        new_ids = {}\n",
    "        new_id = 0\n",
    "        for i in range (0,6):\n",
    "            all_dict_data[\"1_gram\"+str(i)] = []   \n",
    "        for i in range (0,36):\n",
    "            all_dict_data[\"2_gram\"+str(i)] = []   \n",
    "        for i in range(0, 216):    # всего будет 216 триграмм, для каждой свой столбик\n",
    "            all_dict_data[\"3_gram\"+str(i)] = []\n",
    "        for i in range(0, 1296):\n",
    "            all_dict_data[\"4_gram\"+str(i)] = []\n",
    "        #for i in range(0, 1296 * 6):           № в последней версии я убрал 5-граммы\n",
    "        #    all_dict_data[\"5_gram\"+str(i)] = []\n",
    "        test_stat = self.create_stats_features([2,2], [2,2])\n",
    "        for i in range(0, len(test_stat)):\n",
    "            all_dict_data[\"stats\"+str(i)] = []\n",
    "            \n",
    "            \n",
    "        for i in self.ibs_true_patients:    # сначала разбираемся с больными\n",
    "            for j in self.ibs_true_patients[i]:      # берем все данные для больного     \n",
    "                all_dict_data[\"patient_id\"].append(i)   # добавили номер пациента\n",
    "                all_dict_data[\"class\"].append(1)        # добавили, что его класс 1\n",
    "                k = 0\n",
    "                amps = j[1][0]                          # взяли оригинальные значения амплитуд больного\n",
    "                ints =  j[1][1]                         # взяли оиргинальные значения интервалов больного\n",
    "                \n",
    "                stats_features = self.create_stats_features(amps, ints)\n",
    "                for count in range(0, len(stats_features)):\n",
    "                    all_dict_data[\"stats\"+str(count)].append(stats_features[count])\n",
    "                \n",
    "                for m in j[0][0]:                          # здесь лежат все N граммы\n",
    "                    all_dict_data[\"1_gram\"+str(k)].append(m)\n",
    "                    k += 1        \n",
    "                k = 0\n",
    "                for m in j[0][1]:                          \n",
    "                    all_dict_data[\"2_gram\"+str(k)].append(m)\n",
    "                    k += 1        \n",
    "                k = 0\n",
    "                for m in j[0][2]:                          \n",
    "                    all_dict_data[\"3_gram\"+str(k)].append(m)\n",
    "                    k += 1      \n",
    "                k = 0\n",
    "                for m in j[0][3]:                         \n",
    "                    all_dict_data[\"4_gram\"+str(k)].append(m)\n",
    "                    k += 1    \n",
    "                #k = 0                                     № в последней версии я убрал 5-граммы\n",
    "                #for m in j[0][4]:                         \n",
    "                #    all_dict_data[\"5_gram\"+str(k)].append(m)\n",
    "                #    k += 1    \n",
    "                \n",
    "        for i in self.ibs_false_patients:    # тоже самое и со здоровыми, только класс 0\n",
    "            for j in self.ibs_false_patients[i]:         \n",
    "                all_dict_data[\"patient_id\"].append(i)\n",
    "                all_dict_data[\"class\"].append(0)\n",
    "                amps = j[1][0]                         # взяли оригинальные значения амплитуд \n",
    "                ints =  j[1][1]                         # взяли оиргинальные значения интервалов \n",
    "                \n",
    "                stats_features = self.create_stats_features(amps, ints)\n",
    "                for count in range(0, len(stats_features)):\n",
    "                    all_dict_data[\"stats\"+str(count)].append(stats_features[count])\n",
    "                    \n",
    "                k = 0  \n",
    "                for m in j[0][0]:                          # здесь лежат все N граммы\n",
    "                    all_dict_data[\"1_gram\"+str(k)].append(m)\n",
    "                    k += 1        \n",
    "                k = 0\n",
    "                for m in j[0][1]:                          \n",
    "                    all_dict_data[\"2_gram\"+str(k)].append(m)\n",
    "                    k += 1        \n",
    "                k = 0\n",
    "                for m in j[0][2]:                          \n",
    "                    all_dict_data[\"3_gram\"+str(k)].append(m)\n",
    "                    k += 1      \n",
    "                k = 0\n",
    "                for m in j[0][3]:                         \n",
    "                    all_dict_data[\"4_gram\"+str(k)].append(m)\n",
    "                    k += 1     \n",
    "                #k = 0\n",
    "                #for m in j[0][4]:                         \n",
    "                #    all_dict_data[\"5_gram\"+str(k)].append(m)\n",
    "                #    k += 1    \n",
    "        return pd.DataFrame(all_dict_data)\n",
    "\n",
    "def create_tf_idf(data):\n",
    "    idf = np.log(float(len(data)) / (data.apply(np.count_nonzero, axis=0).values))\n",
    "    return data.multiply(idf)\n",
    "    \n",
    "        \n",
    "test_cardio = CardioClass(\"ibs_true_data.txt\", \"ibs_false_data.txt\")\n"
   ]
  },
  {
   "cell_type": "markdown",
   "metadata": {},
   "source": [
    "Вот так выглядит наша таблица объектов-признаков"
   ]
  },
  {
   "cell_type": "code",
   "execution_count": 76,
   "metadata": {
    "collapsed": false
   },
   "outputs": [
    {
     "data": {
      "text/html": [
       "<div>\n",
       "<table border=\"1\" class=\"dataframe\">\n",
       "  <thead>\n",
       "    <tr style=\"text-align: right;\">\n",
       "      <th></th>\n",
       "      <th>1_gram0</th>\n",
       "      <th>1_gram1</th>\n",
       "      <th>1_gram2</th>\n",
       "      <th>1_gram3</th>\n",
       "      <th>1_gram4</th>\n",
       "      <th>1_gram5</th>\n",
       "      <th>2_gram0</th>\n",
       "      <th>2_gram1</th>\n",
       "      <th>2_gram10</th>\n",
       "      <th>2_gram11</th>\n",
       "      <th>...</th>\n",
       "      <th>stats90</th>\n",
       "      <th>stats91</th>\n",
       "      <th>stats92</th>\n",
       "      <th>stats93</th>\n",
       "      <th>stats94</th>\n",
       "      <th>stats95</th>\n",
       "      <th>stats96</th>\n",
       "      <th>stats97</th>\n",
       "      <th>stats98</th>\n",
       "      <th>stats99</th>\n",
       "    </tr>\n",
       "  </thead>\n",
       "  <tbody>\n",
       "    <tr>\n",
       "      <th>0</th>\n",
       "      <td>32</td>\n",
       "      <td>60</td>\n",
       "      <td>113</td>\n",
       "      <td>109</td>\n",
       "      <td>77</td>\n",
       "      <td>22</td>\n",
       "      <td>2</td>\n",
       "      <td>5</td>\n",
       "      <td>26</td>\n",
       "      <td>1</td>\n",
       "      <td>...</td>\n",
       "      <td>-0.000042</td>\n",
       "      <td>0.106890</td>\n",
       "      <td>6.353326</td>\n",
       "      <td>0.000145</td>\n",
       "      <td>0.000144</td>\n",
       "      <td>509.274499</td>\n",
       "      <td>573.525915</td>\n",
       "      <td>573.271526</td>\n",
       "      <td>52.712558</td>\n",
       "      <td>6.353102</td>\n",
       "    </tr>\n",
       "    <tr>\n",
       "      <th>1</th>\n",
       "      <td>35</td>\n",
       "      <td>73</td>\n",
       "      <td>112</td>\n",
       "      <td>109</td>\n",
       "      <td>62</td>\n",
       "      <td>37</td>\n",
       "      <td>0</td>\n",
       "      <td>10</td>\n",
       "      <td>20</td>\n",
       "      <td>2</td>\n",
       "      <td>...</td>\n",
       "      <td>-0.000044</td>\n",
       "      <td>0.111116</td>\n",
       "      <td>6.375025</td>\n",
       "      <td>0.000154</td>\n",
       "      <td>0.000153</td>\n",
       "      <td>518.052157</td>\n",
       "      <td>586.130776</td>\n",
       "      <td>585.871788</td>\n",
       "      <td>51.193233</td>\n",
       "      <td>6.374806</td>\n",
       "    </tr>\n",
       "    <tr>\n",
       "      <th>2</th>\n",
       "      <td>72</td>\n",
       "      <td>5</td>\n",
       "      <td>94</td>\n",
       "      <td>89</td>\n",
       "      <td>8</td>\n",
       "      <td>82</td>\n",
       "      <td>6</td>\n",
       "      <td>3</td>\n",
       "      <td>0</td>\n",
       "      <td>0</td>\n",
       "      <td>...</td>\n",
       "      <td>-0.000011</td>\n",
       "      <td>0.059473</td>\n",
       "      <td>6.708084</td>\n",
       "      <td>0.000073</td>\n",
       "      <td>0.000073</td>\n",
       "      <td>765.484269</td>\n",
       "      <td>818.072552</td>\n",
       "      <td>817.931723</td>\n",
       "      <td>93.768373</td>\n",
       "      <td>6.708001</td>\n",
       "    </tr>\n",
       "    <tr>\n",
       "      <th>3</th>\n",
       "      <td>55</td>\n",
       "      <td>10</td>\n",
       "      <td>81</td>\n",
       "      <td>63</td>\n",
       "      <td>11</td>\n",
       "      <td>60</td>\n",
       "      <td>3</td>\n",
       "      <td>4</td>\n",
       "      <td>2</td>\n",
       "      <td>0</td>\n",
       "      <td>...</td>\n",
       "      <td>-0.000012</td>\n",
       "      <td>0.066433</td>\n",
       "      <td>6.866933</td>\n",
       "      <td>0.000069</td>\n",
       "      <td>0.000069</td>\n",
       "      <td>890.404612</td>\n",
       "      <td>959.072422</td>\n",
       "      <td>958.926543</td>\n",
       "      <td>88.052620</td>\n",
       "      <td>6.866857</td>\n",
       "    </tr>\n",
       "    <tr>\n",
       "      <th>4</th>\n",
       "      <td>48</td>\n",
       "      <td>20</td>\n",
       "      <td>70</td>\n",
       "      <td>64</td>\n",
       "      <td>15</td>\n",
       "      <td>63</td>\n",
       "      <td>3</td>\n",
       "      <td>3</td>\n",
       "      <td>9</td>\n",
       "      <td>2</td>\n",
       "      <td>...</td>\n",
       "      <td>-0.000008</td>\n",
       "      <td>0.070341</td>\n",
       "      <td>6.773080</td>\n",
       "      <td>0.000081</td>\n",
       "      <td>0.000081</td>\n",
       "      <td>807.716286</td>\n",
       "      <td>873.077282</td>\n",
       "      <td>872.920199</td>\n",
       "      <td>84.023425</td>\n",
       "      <td>6.772989</td>\n",
       "    </tr>\n",
       "  </tbody>\n",
       "</table>\n",
       "<p>5 rows × 1896 columns</p>\n",
       "</div>"
      ],
      "text/plain": [
       "   1_gram0  1_gram1  1_gram2  1_gram3  1_gram4  1_gram5  2_gram0  2_gram1  \\\n",
       "0       32       60      113      109       77       22        2        5   \n",
       "1       35       73      112      109       62       37        0       10   \n",
       "2       72        5       94       89        8       82        6        3   \n",
       "3       55       10       81       63       11       60        3        4   \n",
       "4       48       20       70       64       15       63        3        3   \n",
       "\n",
       "   2_gram10  2_gram11    ...      stats90   stats91   stats92   stats93  \\\n",
       "0        26         1    ...    -0.000042  0.106890  6.353326  0.000145   \n",
       "1        20         2    ...    -0.000044  0.111116  6.375025  0.000154   \n",
       "2         0         0    ...    -0.000011  0.059473  6.708084  0.000073   \n",
       "3         2         0    ...    -0.000012  0.066433  6.866933  0.000069   \n",
       "4         9         2    ...    -0.000008  0.070341  6.773080  0.000081   \n",
       "\n",
       "    stats94     stats95     stats96     stats97    stats98   stats99  \n",
       "0  0.000144  509.274499  573.525915  573.271526  52.712558  6.353102  \n",
       "1  0.000153  518.052157  586.130776  585.871788  51.193233  6.374806  \n",
       "2  0.000073  765.484269  818.072552  817.931723  93.768373  6.708001  \n",
       "3  0.000069  890.404612  959.072422  958.926543  88.052620  6.866857  \n",
       "4  0.000081  807.716286  873.077282  872.920199  84.023425  6.772989  \n",
       "\n",
       "[5 rows x 1896 columns]"
      ]
     },
     "execution_count": 76,
     "metadata": {},
     "output_type": "execute_result"
    }
   ],
   "source": [
    "test_data = test_cardio.create_data()\n",
    "test_data.head()"
   ]
  },
  {
   "cell_type": "markdown",
   "metadata": {},
   "source": [
    "Делаем кросс-валидацию, смотрим результат"
   ]
  },
  {
   "cell_type": "code",
   "execution_count": 77,
   "metadata": {
    "collapsed": false
   },
   "outputs": [
    {
     "name": "stdout",
     "output_type": "stream",
     "text": [
      "(3031, 1894)\n"
     ]
    }
   ],
   "source": [
    "from sklearn.cross_validation import LabelKFold\n",
    "from sklearn.ensemble import RandomForestRegressor\n",
    "from xgboost.sklearn import XGBRegressor\n",
    "from sklearn.linear_model import LogisticRegression\n",
    "df = test_data\n",
    "cv2 = LabelKFold(df[\"patient_id\"], n_folds=10)   # делаем кросс валидацию такую, чтобы один и тот же\n",
    "                                                 #пациент не мог быть в трейне и тесте одновременно\n",
    "patient_id = df[\"patient_id\"]\n",
    "y = df[\"class\"]\n",
    "a = np.zeros(len(y))\n",
    "c = df.columns.difference([\"class\", \"patient_id\"])  # убираем два столбца из обучения\n",
    "df = df[c]         \n",
    "print df.shape\n",
    "for itrain, itest in cv2:\n",
    "    a[itest] =  XGBRegressor( learning_rate =0.1, n_estimators=100, max_depth=5, seed=1).fit\\\n",
    "    (df.loc[itrain,:], y[itrain]).predict(df.loc[itest,:])"
   ]
  },
  {
   "cell_type": "code",
   "execution_count": 78,
   "metadata": {
    "collapsed": false
   },
   "outputs": [
    {
     "data": {
      "image/png": "[encoded data removed]",
      "text/plain": [
       "<matplotlib.figure.Figure at 0x7f92f33e9510>"
      ]
     },
     "metadata": {},
     "output_type": "display_data"
    }
   ],
   "source": [
    "lsp = np.linspace(0, 1, 100)\n",
    "fig = plt.figure(num=None, figsize=(9, 9), dpi=80, facecolor='w', edgecolor='k')\n",
    "plt.plot(lsp, [np.mean(np.abs((a>l) == y)) for l in lsp], lw=2)\n",
    "plt.xlabel('threshold')\n",
    "plt.ylabel('quality')\n",
    "plt.show()"
   ]
  },
  {
   "cell_type": "code",
   "execution_count": 88,
   "metadata": {
    "collapsed": false
   },
   "outputs": [
    {
     "name": "stdout",
     "output_type": "stream",
     "text": [
      "качество по сигналам = 0.817881887166\n",
      "качество по людям = 0.714818858004\n"
     ]
    }
   ],
   "source": [
    "tmp = pd.DataFrame({'label':patient_id, 'y':y, 'a':a, 'ans': 0+(a>0.6)})\n",
    "tmp['q'] = tmp.y == tmp.ans\n",
    "print ('качество по сигналам = ' + str(tmp.q.mean()))\n",
    "print ('качество по людям = ' + str(tmp.groupby('label')['q'].mean().mean()))"
   ]
  },
  {
   "cell_type": "markdown",
   "metadata": {},
   "source": [
    "А теперь посчитаем AUC и построим РОК кривую."
   ]
  },
  {
   "cell_type": "code",
   "execution_count": 80,
   "metadata": {
    "collapsed": false
   },
   "outputs": [
    {
     "name": "stdout",
     "output_type": "stream",
     "text": [
      "0.800193167599\n"
     ]
    }
   ],
   "source": [
    "from sklearn.metrics import roc_auc_score\n",
    "print (roc_auc_score(y, a))"
   ]
  },
  {
   "cell_type": "code",
   "execution_count": 91,
   "metadata": {
    "collapsed": false
   },
   "outputs": [
    {
     "data": {
      "image/png": "[encoded data removed]",
      "text/plain": [
       "<matplotlib.figure.Figure at 0x7f92fc884590>"
      ]
     },
     "metadata": {},
     "output_type": "display_data"
    }
   ],
   "source": [
    "from sklearn.metrics import roc_curve, auc\n",
    "import matplotlib.pyplot as plt\n",
    "import random\n",
    "fig = plt.figure(num=None, figsize=(9, 9), dpi=80, facecolor='w', edgecolor='k')\n",
    "false_positive_rate, true_positive_rate, thresholds = roc_curve(y, a)\n",
    "roc_auc = auc(false_positive_rate, true_positive_rate)\n",
    "plt.title('Receiver Operating Characteristic')\n",
    "plt.plot(false_positive_rate, true_positive_rate, 'b',\n",
    "label='AUC = %0.2f'% roc_auc)\n",
    "plt.legend(loc='lower right')\n",
    "plt.plot([0,1],[0,1],'r--')\n",
    "plt.xlim([-0.1,1.2])\n",
    "plt.ylim([-0.1,1.2])\n",
    "plt.ylabel('True Positive Rate')\n",
    "plt.xlabel('False Positive Rate')\n",
    "plt.show()"
   ]
  },
  {
   "cell_type": "markdown",
   "metadata": {},
   "source": [
    "Варьированием порога классификации можно добиваться улучшения-ухудшения в качестве по сигналам и по людям, например:\n",
    "\n",
    "a = 0.6 => accuracy: human = 0.71, signal = 0.82\n",
    "\n",
    "a = 0.5 => accuracy: human = 0.75, signal = 0.81\n",
    "\n",
    "a = 0.45 => accuracy: human = 0.77, signal = 0.8\n",
    "\n",
    "a = 0.4 => accuracy: human = 0.79, signal =  0.78\n",
    "\n",
    "a = 0.3 => accuracy: human = 0.78, signal = 0.73"
   ]
  },
  {
   "cell_type": "markdown",
   "metadata": {},
   "source": [
    "# Заключение"
   ]
  },
  {
   "cell_type": "markdown",
   "metadata": {
    "collapsed": false
   },
   "source": [
    "Что вошло в эту версию ноутбука:\n",
    "\n",
    "1) Оригинальный метод Воронцова-Успенского (триграммы)\n",
    "\n",
    "2) Добавление к нему слов, биграмм, тетраграмм\n",
    "\n",
    "3) Добавление статических признаков (какие, смотреть в коде, но там средние, дисперсии, моменты, квантили от различных последовательностей, связанные с кардиаограммой).\n",
    "\n",
    "Что было попробовано, но эффекта не дало:\n",
    "\n",
    "1) PCA над признаками\n",
    "\n",
    "2) Вместо частоности использовать TFIDF\n",
    "\n",
    "3) Кодирование не троек, а просто изменений амплитуды, интервала, угла. Аналогично пары. (уделил этому мало времени, так что возомжно здесь есть некое рациональное зерно)\n",
    "\n",
    "4) Стеккинг алгоритмов над различными паками фичей (например, только над триграммами, или только над стат фичами)\n",
    "\n",
    "Что нужно было попробовать, но я не успел из-за своей лени:\n",
    "\n",
    "1) Делать PCA не на всех фичах, а на раличных паках, при чем количество компонент варьировать в завимисости от размера пака (например, если всего при 5-грамме у нас 6^5 вариантов, то информативность кажлдой из них меньше, чем например у биграммы, где 6^2\n",
    "\n",
    "2) Получше исселедовать ДРУГИЕ возможности кодирования кардиосигналов, а не только, как в оригинале Воронцова, то есть с помощью 6 букв. Никто не запрещает ввести новую величину или убрать одну их трех и получить алфавит другой мощности\n",
    "\n",
    "3) Придумать алгоритм автоматического определения качества признака. Основная проблема, что со своим воображением я могу придумывать ничем неограниченное количество признаков, вся проверка работоспособности того или ного признака, сводилась к кросс-валидации с ним или без. Как простой вариант, можно считать АУК нового признака, и отбрасывать, если этот АУК принадлежит отрезку [0.5 - eps, 0.5 + eps]\n"
   ]
  },
  {
   "cell_type": "markdown",
   "metadata": {},
   "source": [
    "С уважением, Викулин Всеволод"
   ]
  },
  {
   "cell_type": "code",
   "execution_count": null,
   "metadata": {
    "collapsed": true
   },
   "outputs": [],
   "source": []
  }
 ],
 "metadata": {
  "kernelspec": {
   "display_name": "Python 2",
   "language": "python",
   "name": "python2"
  },
  "language_info": {
   "codemirror_mode": {
    "name": "ipython",
    "version": 2
   },
   "file_extension": ".py",
   "mimetype": "text/x-python",
   "name": "python",
   "nbconvert_exporter": "python",
   "pygments_lexer": "ipython2",
   "version": "2.7.12"
  }
 },
 "nbformat": 4,
 "nbformat_minor": 0
}
